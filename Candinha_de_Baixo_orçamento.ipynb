{
  "nbformat": 4,
  "nbformat_minor": 0,
  "metadata": {
    "colab": {
      "provenance": [],
      "authorship_tag": "ABX9TyOuGBHsbcZq+wRUnoMAjZlP",
      "include_colab_link": true
    },
    "kernelspec": {
      "name": "python3",
      "display_name": "Python 3"
    },
    "language_info": {
      "name": "python"
    }
  },
  "cells": [
    {
      "cell_type": "markdown",
      "metadata": {
        "id": "view-in-github",
        "colab_type": "text"
      },
      "source": [
        "<a href=\"https://colab.research.google.com/github/FrrzJr/ChatBot_baixo_orcamento/blob/main/Candinha_de_Baixo_or%C3%A7amento.ipynb\" target=\"_parent\"><img src=\"https://colab.research.google.com/assets/colab-badge.svg\" alt=\"Open In Colab\"/></a>"
      ]
    },
    {
      "cell_type": "markdown",
      "source": [
        "INSTALANDO O **SDK** DO GOOGLE"
      ],
      "metadata": {
        "id": "TXf8b6VO9CMs"
      }
    },
    {
      "cell_type": "code",
      "execution_count": 3,
      "metadata": {
        "id": "Eo81MU1k86mX"
      },
      "outputs": [],
      "source": [
        "!pip install -q -U google-generativeai"
      ]
    },
    {
      "cell_type": "code",
      "source": [
        "import google.generativeai as genai\n",
        "from google.colab import userdata\n",
        "API_KEY = userdata.get('ANTI_CURIOSO')\n",
        "genai.configure(api_key=API_KEY)"
      ],
      "metadata": {
        "id": "8rUP3wKg9MKN"
      },
      "execution_count": 45,
      "outputs": []
    },
    {
      "cell_type": "markdown",
      "source": [
        "LISTAR MODELOS DISPONIVEIS DO GEMINI"
      ],
      "metadata": {
        "id": "mJOXTfP59BJy"
      }
    },
    {
      "cell_type": "code",
      "source": [
        "for m in genai.list_models():\n",
        "  if 'generateContent' in m.supported_generation_methods:\n",
        "    print(m.name)"
      ],
      "metadata": {
        "colab": {
          "base_uri": "https://localhost:8080/",
          "height": 139
        },
        "id": "sdW5q-p-9bQr",
        "outputId": "ea261a45-0355-4c76-e0b4-3a38fc6e603f"
      },
      "execution_count": 46,
      "outputs": [
        {
          "output_type": "stream",
          "name": "stdout",
          "text": [
            "models/gemini-1.0-pro\n",
            "models/gemini-1.0-pro-001\n",
            "models/gemini-1.0-pro-latest\n",
            "models/gemini-1.0-pro-vision-latest\n",
            "models/gemini-1.5-pro-latest\n",
            "models/gemini-pro\n",
            "models/gemini-pro-vision\n"
          ]
        }
      ]
    },
    {
      "cell_type": "markdown",
      "source": [
        "CONFIGURAÇÃO DE TEMPERATURA DO MODELO, MAIS PRECISO OU MAIS CRIATIVO"
      ],
      "metadata": {
        "id": "n_Vqi7i1l9EF"
      }
    },
    {
      "cell_type": "code",
      "source": [
        "generation_config = {\n",
        "      'candidate_count': 1,\n",
        "      'temperature': 1,\n",
        "}"
      ],
      "metadata": {
        "id": "zYT1264lkSHR"
      },
      "execution_count": 56,
      "outputs": []
    },
    {
      "cell_type": "markdown",
      "source": [
        "CRIANDO AS PARAMETROS DE SEGURANÇA DO MODELO"
      ],
      "metadata": {
        "id": "4AykcWLAl7J6"
      }
    },
    {
      "cell_type": "code",
      "source": [
        "safety_settings = {\n",
        "    'HARASSMENT': 'BLOCK_NONE',\n",
        "    'HATE': 'BLOCK_NONE',\n",
        "    'SEXUAL': 'BLOCK_NONE',\n",
        "    'DANGEROUS': 'BLOCK_NONE'\n",
        "  }"
      ],
      "metadata": {
        "id": "7Xi51cbOkxTh"
      },
      "execution_count": 57,
      "outputs": []
    },
    {
      "cell_type": "markdown",
      "source": [
        "INICIALIZANDO O MODELO"
      ],
      "metadata": {
        "id": "kFXmquPTmAyU"
      }
    },
    {
      "cell_type": "code",
      "source": [
        "model = genai.GenerativeModel(model_name='gemini-1.0-pro',\n",
        "                              generation_config=generation_config,\n",
        "                              safety_settings=safety_settings)"
      ],
      "metadata": {
        "id": "NNZZCLaFlj-i"
      },
      "execution_count": 58,
      "outputs": []
    },
    {
      "cell_type": "markdown",
      "source": [
        "TESTANDO RESPOSTAS DO MODELO"
      ],
      "metadata": {
        "id": "7oFV8mK1pY40"
      }
    },
    {
      "cell_type": "code",
      "source": [
        "response = model.generate_content(\"Vamos Aprender conteúdo sobre IA. Me dê Sugestões\")\n",
        "print(response.text)"
      ],
      "metadata": {
        "id": "_J8tBsW8m5zU"
      },
      "execution_count": null,
      "outputs": []
    },
    {
      "cell_type": "markdown",
      "source": [
        "MEU PRIMEIRO CHATBOT"
      ],
      "metadata": {
        "id": "yybYVrC2pXlA"
      }
    },
    {
      "cell_type": "code",
      "source": [
        "chat = model.start_chat(history=[])"
      ],
      "metadata": {
        "id": "Izr5fDu4pXAb"
      },
      "execution_count": 60,
      "outputs": []
    },
    {
      "cell_type": "code",
      "source": [
        "prompt = input('Digite sua mensagem: ')\n",
        "\n",
        "while prompt != \"fim\":\n",
        "  response = chat.send_message(prompt)\n",
        "  print('Resposta: ', response.text, '\\n')\n",
        "  prompt = input('Digite sua mensagem: ')"
      ],
      "metadata": {
        "id": "OxqcJWPRwyRl"
      },
      "execution_count": null,
      "outputs": []
    },
    {
      "cell_type": "markdown",
      "source": [
        "FORMATANDO O TEXTO DO CHAT (HISTORICO)"
      ],
      "metadata": {
        "id": "gMEe2lAA0wad"
      }
    },
    {
      "cell_type": "code",
      "source": [
        "import textwrap\n",
        "from IPython.display import display\n",
        "from IPython.display import Markdown\n",
        "\n",
        "def to_markdown(text):\n",
        "  text = text.replace('•', '  *')\n",
        "  return Markdown(textwrap.indent(text, '> ', predicate=lambda _: True))\n",
        "\n",
        "#Imprimindo o histórico\n",
        "for message in chat.history:\n",
        "  display(to_markdown(f'**{message.role}**: {message.parts[0].text}'))\n",
        "  print('-------------------------------------------')\n"
      ],
      "metadata": {
        "id": "gIxzcIBF0jP2"
      },
      "execution_count": 66,
      "outputs": []
    },
    {
      "cell_type": "code",
      "source": [
        "chat.history.clear()"
      ],
      "metadata": {
        "id": "3lUUzAemFEwn"
      },
      "execution_count": 65,
      "outputs": []
    }
  ]
}